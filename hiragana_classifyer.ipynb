{
 "metadata": {
  "language_info": {
   "codemirror_mode": {
    "name": "ipython",
    "version": 3
   },
   "file_extension": ".py",
   "mimetype": "text/x-python",
   "name": "python",
   "nbconvert_exporter": "python",
   "pygments_lexer": "ipython3",
   "version": "3.9.1-final"
  },
  "orig_nbformat": 2,
  "kernelspec": {
   "name": "python38264bit39f6a792160344ab937de968bd86ed30",
   "display_name": "Python 3.8.2 64-bit"
  }
 },
 "nbformat": 4,
 "nbformat_minor": 2,
 "cells": [
  {
   "cell_type": "code",
   "execution_count": 31,
   "metadata": {},
   "outputs": [],
   "source": [
    "import numpy as np\n",
    "import pandas as pd\n",
    "import keras\n",
    "from keras.models import Sequential\n",
    "from keras.layers import Dense, Dropout, Flatten, Conv2D, MaxPooling2D\n",
    "from sklearn.model_selection import train_test_split\n",
    "import tensorflow \n",
    "from keras.callbacks import EarlyStopping"
   ]
  },
  {
   "cell_type": "code",
   "execution_count": 24,
   "metadata": {},
   "outputs": [],
   "source": [
    "train_img = np.load('data/k49-train-imgs.npz')['arr_0']\n",
    "train_label = np.load('data/k49-train-labels.npz')['arr_0']\n",
    "\n",
    "test_img = np.load('data/k49-test-imgs.npz')['arr_0']\n",
    "test_label = np.load('data/k49-test-labels.npz')['arr_0']\n",
    "\n",
    "char_df = pd.read_csv('data/k49_classmap.csv', encoding = 'utf-8')"
   ]
  },
  {
   "cell_type": "code",
   "execution_count": 25,
   "metadata": {},
   "outputs": [],
   "source": [
    "#Normalise\n",
    "\n",
    "train_img = train_img / 255.0\n",
    "test_img = test_img / 255.0\n"
   ]
  },
  {
   "cell_type": "code",
   "execution_count": 26,
   "metadata": {},
   "outputs": [],
   "source": [
    "img_rows, img_cols = train_img.shape[1:]\n",
    "\n",
    "X = np.expand_dims(train_img, axis=-1)\n",
    "x_test = np.expand_dims(test_img, axis=-1)\n",
    "y = keras.utils.to_categorical(train_label)\n",
    "y_test = keras.utils.to_categorical(test_label)\n"
   ]
  },
  {
   "cell_type": "code",
   "execution_count": 27,
   "metadata": {},
   "outputs": [],
   "source": [
    "x_train, x_val, y_train, y_val = train_test_split(X, y, stratify=y, test_size=0.2)"
   ]
  },
  {
   "cell_type": "code",
   "execution_count": 28,
   "metadata": {},
   "outputs": [
    {
     "output_type": "stream",
     "name": "stdout",
     "text": [
      "Model: \"sequential_5\"\n_________________________________________________________________\nLayer (type)                 Output Shape              Param #   \n=================================================================\nconv2d_8 (Conv2D)            (None, 26, 26, 32)        320       \n_________________________________________________________________\nconv2d_9 (Conv2D)            (None, 24, 24, 64)        18496     \n_________________________________________________________________\nmax_pooling2d_4 (MaxPooling2 (None, 12, 12, 64)        0         \n_________________________________________________________________\ndropout_8 (Dropout)          (None, 12, 12, 64)        0         \n_________________________________________________________________\nflatten_4 (Flatten)          (None, 9216)              0         \n_________________________________________________________________\ndense_7 (Dense)              (None, 256)               2359552   \n_________________________________________________________________\ndropout_9 (Dropout)          (None, 256)               0         \n_________________________________________________________________\ndense_8 (Dense)              (None, 49)                12593     \n=================================================================\nTotal params: 2,390,961\nTrainable params: 2,390,961\nNon-trainable params: 0\n_________________________________________________________________\n"
     ]
    }
   ],
   "source": [
    "model = Sequential()\n",
    "model.add(Conv2D(32, kernel_size=(3,3),\n",
    "                 activation='relu',\n",
    "                 input_shape=(img_rows,img_cols,1)))\n",
    "model.add(Conv2D(64, kernel_size=(3,3), activation='relu'))\n",
    "model.add(MaxPooling2D(pool_size=(2,2)))\n",
    "model.add(Dropout(0.25))\n",
    "model.add(Flatten())\n",
    "model.add(Dense(256, activation='relu'))\n",
    "model.add(Dropout(0.5))\n",
    "model.add(Dense(49, activation='softmax'))\n",
    "model.compile(loss=keras.losses.categorical_crossentropy,\n",
    "              optimizer=keras.optimizers.Adam(),\n",
    "              metrics=['accuracy'])\n",
    "model.summary()\n"
   ]
  },
  {
   "cell_type": "code",
   "execution_count": 32,
   "metadata": {},
   "outputs": [
    {
     "output_type": "stream",
     "name": "stdout",
     "text": [
      "Epoch 1/3\n",
      "1859/1859 [==============================] - 334s 179ms/step - loss: 0.2134 - accuracy: 0.9392 - val_loss: 0.1506 - val_accuracy: 0.9597\n",
      "WARNING:tensorflow:Early stopping conditioned on metric `val_acc` which is not available. Available metrics are: loss,accuracy,val_loss,val_accuracy\n",
      "Epoch 2/3\n",
      "1859/1859 [==============================] - 329s 177ms/step - loss: 0.1879 - accuracy: 0.9458 - val_loss: 0.1461 - val_accuracy: 0.9611\n",
      "WARNING:tensorflow:Early stopping conditioned on metric `val_acc` which is not available. Available metrics are: loss,accuracy,val_loss,val_accuracy\n",
      "Epoch 3/3\n",
      "1859/1859 [==============================] - 336s 181ms/step - loss: 0.1748 - accuracy: 0.9496 - val_loss: 0.1462 - val_accuracy: 0.9626\n",
      "WARNING:tensorflow:Early stopping conditioned on metric `val_acc` which is not available. Available metrics are: loss,accuracy,val_loss,val_accuracy\n"
     ]
    },
    {
     "output_type": "execute_result",
     "data": {
      "text/plain": [
       "<tensorflow.python.keras.callbacks.History at 0x7faca02704c0>"
      ]
     },
     "metadata": {},
     "execution_count": 32
    }
   ],
   "source": [
    "model.fit(x_train,y_train,batch_size=100, epochs=3,verbose=1, validation_data=(x_val,y_val))"
   ]
  },
  {
   "cell_type": "code",
   "execution_count": 33,
   "metadata": {},
   "outputs": [
    {
     "output_type": "stream",
     "name": "stdout",
     "text": [
      "386/386 [==============================] - 17s 44ms/step - loss: 0.3130 - accuracy: 0.9239\n",
      "test loss, test acc: [0.31298157572746277, 0.9239110946655273]\n"
     ]
    }
   ],
   "source": [
    "results = model.evaluate(x_test, y_test, batch_size=100)\n",
    "print(\"test loss, test acc:\", results)\n"
   ]
  },
  {
   "cell_type": "code",
   "execution_count": null,
   "metadata": {},
   "outputs": [],
   "source": []
  }
 ]
}